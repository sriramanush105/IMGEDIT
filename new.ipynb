{
  "nbformat": 4,
  "nbformat_minor": 0,
  "metadata": {
    "colab": {
      "name": "Untitled12.ipynb",
      "provenance": [],
      "collapsed_sections": [],
      "mount_file_id": "1tNrWkzSqquDmr4uicl3FixcmxVJFqEDT",
      "authorship_tag": "ABX9TyMGE+LcqkH4x6xfmho4TNgP",
      "include_colab_link": true
    },
    "kernelspec": {
      "name": "python3",
      "display_name": "Python 3"
    },
    "accelerator": "GPU"
  },
  "cells": [
    {
      "cell_type": "markdown",
      "metadata": {
        "id": "view-in-github",
        "colab_type": "text"
      },
      "source": [
        "<a href=\"https://colab.research.google.com/github/sriramanush105/IMGEDIT/blob/master/new.ipynb\" target=\"_parent\"><img src=\"https://colab.research.google.com/assets/colab-badge.svg\" alt=\"Open In Colab\"/></a>"
      ]
    },
    {
      "cell_type": "code",
      "metadata": {
        "id": "-sA_g215U-Qg",
        "colab_type": "code",
        "colab": {}
      },
      "source": [
        "#importing required packages\n",
        "import tensorflow as tf\n",
        "from tensorflow import keras\n",
        "from tensorflow.keras.models import Sequential\n",
        "import IPython.display as display\n",
        "\n",
        "import matplotlib.pyplot as plt\n",
        "import matplotlib as mpl\n",
        "mpl.rcParams['figure.figsize'] = (12,12)\n",
        "mpl.rcParams['axes.grid'] = False\n",
        "import os\n",
        "import numpy as np\n",
        "import PIL.Image\n",
        "import time\n",
        "import functools\n",
        "from PIL import Image"
      ],
      "execution_count": 1,
      "outputs": []
    },
    {
      "cell_type": "code",
      "metadata": {
        "id": "KIdGRam2V3fK",
        "colab_type": "code",
        "colab": {}
      },
      "source": [
        "#converting image to tensor\n",
        "def load_img(path_to_img):\n",
        "  img = tf.io.read_file(path_to_img)\n",
        "\n",
        "  # Workaround\n",
        "  img = tf.image.decode_png(img, channels=3)\n",
        "  img = tf.image.convert_image_dtype(img, np.float32)\n",
        "\n",
        "  img = img[tf.newaxis, :]\n",
        "  \n",
        "  return img"
      ],
      "execution_count": 2,
      "outputs": []
    },
    {
      "cell_type": "code",
      "metadata": {
        "id": "BYOC5xIlWFYl",
        "colab_type": "code",
        "colab": {}
      },
      "source": [
        "#converting tensor to image\n",
        "def tensor_to_image(tensor):\n",
        "    tensor = tf.image.convert_image_dtype(tensor, np.uint8)\n",
        "    tensor = tf.squeeze(tensor)\n",
        "\n",
        "    \n",
        "    c=tf.keras.backend.eval(tensor)\n",
        "    plt.imsave(\"new.jpg\",c)\n",
        "    return None"
      ],
      "execution_count": 3,
      "outputs": []
    },
    {
      "cell_type": "code",
      "metadata": {
        "id": "jxMT3UXmWMVS",
        "colab_type": "code",
        "colab": {}
      },
      "source": [
        "#code for displaying image\n",
        "def imshow(image, title=None):\n",
        "  if len(image.shape) > 3:\n",
        "    image = tf.squeeze(image, axis=0)\n",
        "\n",
        "  plt.imshow(image)\n",
        "  if title:\n",
        "    plt.title(title)"
      ],
      "execution_count": 4,
      "outputs": []
    },
    {
      "cell_type": "code",
      "metadata": {
        "id": "BT_-wIBh8n7r",
        "colab_type": "code",
        "colab": {
          "base_uri": "https://localhost:8080/",
          "height": 34
        },
        "outputId": "2c9109fe-8d00-4e56-e681-4f5ddbd810fe"
      },
      "source": [
        "print(tf.zeros((1,5)))"
      ],
      "execution_count": null,
      "outputs": [
        {
          "output_type": "stream",
          "text": [
            "tf.Tensor([[0. 0. 0. 0. 0.]], shape=(1, 5), dtype=float32)\n"
          ],
          "name": "stdout"
        }
      ]
    },
    {
      "cell_type": "code",
      "metadata": {
        "id": "7nFLMoVWWi3p",
        "colab_type": "code",
        "colab": {}
      },
      "source": [
        "#defining model architecture\n",
        "\n",
        "model_=Sequential()\n",
        "\n",
        "model_.add(tf.keras.layers.Conv2D(16,(3,3),activation=\"relu\",padding=\"same\"))\n",
        "\n",
        "model_.add(tf.keras.layers.Conv2D(32,(3,3),activation=\"relu\",padding=\"same\"))\n",
        "\n",
        "\n",
        "model_.add(tf.keras.layers.Conv2D(64,(3,3),activation=\"relu\",padding=\"same\"))\n",
        "\n",
        "model_.add(tf.keras.layers.Conv2D(3,(3,3),activation=\"relu\",padding=\"same\"))\n"
      ],
      "execution_count": 5,
      "outputs": []
    },
    {
      "cell_type": "code",
      "metadata": {
        "id": "_x_-NiMGW6eL",
        "colab_type": "code",
        "colab": {}
      },
      "source": [
        "#reviewing model output to select correct weights\n",
        "content_image=load_img(\"/content/drive/My Drive/images/40.jfif\")\n",
        "x=model_(content_image)\n",
        "print(x.shape)\n",
        "imshow(x)"
      ],
      "execution_count": null,
      "outputs": []
    },
    {
      "cell_type": "code",
      "metadata": {
        "id": "79HyQjAM2WOW",
        "colab_type": "code",
        "colab": {}
      },
      "source": [
        "tensor_to_image(x)"
      ],
      "execution_count": null,
      "outputs": []
    },
    {
      "cell_type": "code",
      "metadata": {
        "id": "vj9ku70IXzXr",
        "colab_type": "code",
        "colab": {}
      },
      "source": [
        "#defining style and content extractor from layers of vgg\n",
        "content_layers = ['block5_conv2'] \n",
        "\n",
        "style_layers = ['block1_conv1',\n",
        "                'block2_conv1',\n",
        "                'block3_conv1', \n",
        "                'block4_conv1', \n",
        "                'block5_conv1']\n",
        "\n",
        "num_content_layers = len(content_layers)\n",
        "num_style_layers = len(style_layers)\n",
        "def gram_matrix(input_tensor):\n",
        "  result = tf.linalg.einsum('bijc,bijd->bcd', input_tensor, input_tensor)\n",
        "  input_shape = tf.shape(input_tensor)\n",
        "  num_locations = tf.cast(input_shape[1]*input_shape[2], tf.float32)\n",
        "  return result/(num_locations)\n",
        "class StyleContentModel(tf.keras.models.Model):\n",
        "  def __init__(self, style_layers, content_layers):\n",
        "    super(StyleContentModel, self).__init__()\n",
        "    self.vgg =  vgg_layers(style_layers + content_layers)\n",
        "    print(\"hello\")\n",
        "    self.style_layers = style_layers\n",
        "    self.content_layers = content_layers\n",
        "    self.num_style_layers = len(style_layers)\n",
        "    self.vgg.trainable = False\n",
        "\n",
        "  def call(self, inputs):\n",
        "    \"Expects float input in [0,1]\"\n",
        "    inputs = inputs*255.0\n",
        "    preprocessed_input = tf.keras.applications.vgg19.preprocess_input(inputs)\n",
        "    outputs = self.vgg(preprocessed_input)\n",
        "    print(\"good\")\n",
        "    style_outputs, content_outputs = (outputs[:self.num_style_layers], \n",
        "                                      outputs[self.num_style_layers:])\n",
        "\n",
        "    style_outputs = [gram_matrix(style_output)\n",
        "                     for style_output in style_outputs]\n",
        "\n",
        "    content_dict = {content_name:value \n",
        "                    for content_name, value \n",
        "                    in zip(self.content_layers, content_outputs)}\n",
        "\n",
        "    style_dict = {style_name:value\n",
        "                  for style_name, value\n",
        "                  in zip(self.style_layers, style_outputs)}\n",
        "    \n",
        "    return {'content':content_dict, 'style':style_dict}  \n",
        "def vgg_layers(layer_names):\n",
        "  \"\"\" Creates a vgg model that returns a list of intermediate output values.\"\"\"\n",
        "  # Load our model. Load pretrained VGG, trained on imagenet data\n",
        "  vgg = tf.keras.applications.VGG19(include_top=False, weights='imagenet')\n",
        "  vgg.trainable = False\n",
        "  \n",
        "  outputs = [vgg.get_layer(name).output for name in layer_names]\n",
        "\n",
        "  model = tf.keras.Model([vgg.input], outputs)\n",
        "  return model    "
      ],
      "execution_count": 7,
      "outputs": []
    },
    {
      "cell_type": "code",
      "metadata": {
        "id": "Hk8YDV4VX-PO",
        "colab_type": "code",
        "colab": {}
      },
      "source": [
        "extractor = StyleContentModel(style_layers, content_layers)#this extracts style and content layers in dict format\n",
        "\n",
        "#extracting style layers from style image\n",
        "style_image=load_img(\"/content/light.jfif\")#insert path to style image\n",
        "style_targets = extractor(style_image)['style']\n",
        "imshow(style_image)\n"
      ],
      "execution_count": null,
      "outputs": []
    },
    {
      "cell_type": "code",
      "metadata": {
        "id": "8OWzt2FxZ1Nc",
        "colab_type": "code",
        "colab": {}
      },
      "source": [
        "#loss function\n",
        "def style_content_loss(outputs,content_targets):\n",
        "    style_outputs = outputs['style']\n",
        "    content_outputs = outputs['content']\n",
        "  \n",
        "    style_loss = tf.add_n([tf.reduce_mean((style_outputs[name]-style_targets[name])**2) \n",
        "                           for name in style_outputs.keys()])\n",
        "    style_loss *= style_weight / num_style_layers\n",
        "    content_loss = tf.add_n([tf.reduce_mean((content_outputs[name]-content_targets[name])**2) \n",
        "                             for name in content_outputs.keys()])\n",
        "    content_loss *= content_weight / num_content_layers\n",
        "    loss = content_loss+style_loss \n",
        "    \n",
        "    return loss"
      ],
      "execution_count": null,
      "outputs": []
    },
    {
      "cell_type": "code",
      "metadata": {
        "id": "n_RIb_joaxMY",
        "colab_type": "code",
        "colab": {}
      },
      "source": [
        "#defining optimizer \n",
        "opt = tf.optimizers.Adam(learning_rate=0.001, beta_1=0.99, epsilon=1e-1)\n",
        "style_weight=1e-2\n",
        "content_weight=1e4"
      ],
      "execution_count": 10,
      "outputs": []
    },
    {
      "cell_type": "code",
      "metadata": {
        "id": "oYK_vELyb0uY",
        "colab_type": "code",
        "colab": {}
      },
      "source": [
        "#preloading images to tensor type for improving epoch speed\n",
        "#replace path with your own image folder paths to load images\n",
        "#l=[]\n",
        "\n",
        "images=[load_img(\"/content/drive/My Drive/images1/\"+i)for i in os.listdir(\"/content/drive/My Drive/images1/\")]+[load_img(\"/content/drive/My Drive/images/\"+i)for i in os.listdir(\"/content/drive/My Drive/images/\")]\n",
        "cont=[extractor(images[i])[\"content\"] for i in range(len(images))]\n",
        "lent=len(images)"
      ],
      "execution_count": null,
      "outputs": []
    },
    {
      "cell_type": "code",
      "metadata": {
        "id": "Eo55vIB5bGNr",
        "colab_type": "code",
        "colab": {}
      },
      "source": [
        "#gradient tape for training\n",
        "\n",
        "def train_step(images,step):\n",
        "  c=tf.Variable(initial_value=0,dtype=\"float32\")\n",
        "  \n",
        "  \n",
        "  with tf.GradientTape() as tape:\n",
        "    for i in range(int(22)):\n",
        "      w=(i+step)%lent\n",
        "    \n",
        "      content_targets=cont[w]\n",
        "      outputs = extractor(model_(images[w]))\n",
        "      loss = style_content_loss(outputs,content_targets)\n",
        "      total_variation_weight=30\n",
        "      loss += total_variation_weight*tf.image.total_variation(model_(images[w]))\n",
        "      c=c+loss\n",
        "      del content_targets\n",
        "      del outputs\n",
        "    loss=tf.reduce_mean(c) \n",
        "    print(\"loss:\",loss) \n",
        "  gradients = tape.gradient(loss, model_.trainable_variables)\n",
        "  opt.apply_gradients(zip(gradients, model_.trainable_variables))\n",
        "  \n",
        "  \n"
      ],
      "execution_count": 12,
      "outputs": []
    },
    {
      "cell_type": "code",
      "metadata": {
        "id": "C_ljIHoqjx5d",
        "colab_type": "code",
        "colab": {}
      },
      "source": [
        "#training\n",
        "step=0\n",
        "for p in range(1000):\n",
        "  train_step(images,step)\n",
        "  step=step+22\n",
        "  print(\"epoch\",(p))\n"
      ],
      "execution_count": null,
      "outputs": []
    },
    {
      "cell_type": "code",
      "metadata": {
        "id": "qzgA41KD4kMc",
        "colab_type": "code",
        "colab": {}
      },
      "source": [
        "x=load_img(\"/content/drive/My Drive/face/24.jfif\")\n",
        "imshow(x)\n"
      ],
      "execution_count": null,
      "outputs": []
    },
    {
      "cell_type": "code",
      "metadata": {
        "id": "R5qLBab3MIq7",
        "colab_type": "code",
        "colab": {}
      },
      "source": [
        "p=model_(x)\n",
        "imshow(p)"
      ],
      "execution_count": null,
      "outputs": []
    },
    {
      "cell_type": "code",
      "metadata": {
        "id": "OkAynt7vKpJt",
        "colab_type": "code",
        "colab": {}
      },
      "source": [
        "model_.save(\"mymodel1.h5\")"
      ],
      "execution_count": null,
      "outputs": []
    },
    {
      "cell_type": "code",
      "metadata": {
        "id": "Alh9wufP8WSv",
        "colab_type": "code",
        "colab": {
          "base_uri": "https://localhost:8080/",
          "height": 34
        },
        "outputId": "e810cbea-09b2-45b6-e5f6-22f1fadbf9b4"
      },
      "source": [
        "print(tf.__version__)"
      ],
      "execution_count": null,
      "outputs": [
        {
          "output_type": "stream",
          "text": [
            "2.3.0\n"
          ],
          "name": "stdout"
        }
      ]
    }
  ]
}